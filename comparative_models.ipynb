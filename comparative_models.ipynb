{
 "cells": [
  {
   "cell_type": "code",
   "execution_count": 17,
   "metadata": {},
   "outputs": [],
   "source": [
    "import tensorflow as tf\n",
    "import numpy as np\n",
    "import random, os, glob, time\n",
    "from tensorflow.keras.applications import VGG16\n",
    "from tensorflow.keras.layers import Flatten, Dense, Input, Concatenate\n",
    "from tensorflow.keras.models import Model\n",
    "from tensorflow.keras.preprocessing.image import ImageDataGenerator\n",
    "from sklearn.metrics import confusion_matrix, classification_report\n",
    "import pandas as pd"
   ]
  },
  {
   "cell_type": "code",
   "execution_count": 3,
   "metadata": {},
   "outputs": [
    {
     "name": "stdout",
     "output_type": "stream",
     "text": [
      "Found 2 classes in training data.\n"
     ]
    }
   ],
   "source": [
    "tf.random.set_seed(42)\n",
    "np.random.seed(42)\n",
    "random.seed(42)\n",
    "\n",
    "# Data and image parameters\n",
    "IMG_HEIGHT, IMG_WIDTH, IMG_CHANNELS = 224, 224, 3\n",
    "IMG_SHAPE = (IMG_HEIGHT, IMG_WIDTH, IMG_CHANNELS)\n",
    "TRAIN_DIR = 'data/chest_xray/train'\n",
    "TEST_DIR  = 'data/chest_xray/test'\n",
    "# Assume training folder has one subfolder per class (e.g., NORMAL, PNEUMONIA)\n",
    "NUM_CLASSES = len([d for d in os.listdir(TRAIN_DIR) if os.path.isdir(os.path.join(TRAIN_DIR, d))])\n",
    "# For episodic (few–shot) training:\n",
    "K_SHOT  = 5  # number of support images per class per episode\n",
    "Q_QUERY = 5  # number of query images per class per episode\n",
    "\n",
    "print(f\"Found {NUM_CLASSES} classes in training data.\")"
   ]
  },
  {
   "cell_type": "code",
   "execution_count": 9,
   "metadata": {},
   "outputs": [],
   "source": [
    "def load_data_by_class(data_dir):\n",
    "    \"\"\"\n",
    "    Loads file paths for each class into a dictionary.\n",
    "    \"\"\"\n",
    "    data = {}\n",
    "    for cls in os.listdir(data_dir):\n",
    "        full_dir = os.path.join(data_dir, cls)\n",
    "        if os.path.isdir(full_dir):\n",
    "            files = glob.glob(os.path.join(full_dir, '*'))\n",
    "            data[cls] = files\n",
    "    return data\n",
    "\n",
    "# Load training and test data by class (for episodic training)\n",
    "train_data = load_data_by_class(TRAIN_DIR)\n",
    "test_data  = load_data_by_class(TEST_DIR)\n",
    "\n",
    "def generate_episode(data, num_classes=NUM_CLASSES, k_shot=K_SHOT, q_query=Q_QUERY):\n",
    "    \"\"\"\n",
    "    Generate one episode:\n",
    "      - Randomly sample 'num_classes' from available classes.\n",
    "      - For each, randomly sample k_shot support images and q_query query images.\n",
    "    Returns:\n",
    "      support_images, support_labels, query_images, query_labels.\n",
    "    Labels are one–hot encoded (order is per–episode).\n",
    "    \"\"\"\n",
    "    support_images, support_labels = [], []\n",
    "    query_images, query_labels = [], []\n",
    "    selected_classes = random.sample(list(data.keys()), num_classes)\n",
    "    for i, cls in enumerate(selected_classes):\n",
    "        images = random.sample(data[cls], k_shot + q_query)\n",
    "        support_files = images[:k_shot]\n",
    "        query_files   = images[k_shot:]\n",
    "        for img_path in support_files:\n",
    "            img = tf.keras.preprocessing.image.load_img(img_path, target_size=(IMG_HEIGHT, IMG_WIDTH))\n",
    "            img = tf.keras.preprocessing.image.img_to_array(img)\n",
    "            support_images.append(img)\n",
    "            label = np.zeros(num_classes)\n",
    "            label[i] = 1\n",
    "            support_labels.append(label)\n",
    "        for img_path in query_files:\n",
    "            img = tf.keras.preprocessing.image.load_img(img_path, target_size=(IMG_HEIGHT, IMG_WIDTH))\n",
    "            img = tf.keras.preprocessing.image.img_to_array(img)\n",
    "            query_images.append(img)\n",
    "            label = np.zeros(num_classes)\n",
    "            label[i] = 1\n",
    "            query_labels.append(label)\n",
    "    # Normalize images:\n",
    "    support_images = np.array(support_images) / 255.0\n",
    "    query_images   = np.array(query_images)   / 255.0\n",
    "    return (support_images, \n",
    "        np.array(support_labels, dtype=np.float32), \n",
    "        query_images, \n",
    "        np.array(query_labels, dtype=np.float32))"
   ]
  },
  {
   "cell_type": "code",
   "execution_count": 5,
   "metadata": {},
   "outputs": [
    {
     "data": {
      "text/html": [
       "<pre style=\"white-space:pre;overflow-x:auto;line-height:normal;font-family:Menlo,'DejaVu Sans Mono',consolas,'Courier New',monospace\"><span style=\"font-weight: bold\">Model: \"functional\"</span>\n",
       "</pre>\n"
      ],
      "text/plain": [
       "\u001b[1mModel: \"functional\"\u001b[0m\n"
      ]
     },
     "metadata": {},
     "output_type": "display_data"
    },
    {
     "data": {
      "text/html": [
       "<pre style=\"white-space:pre;overflow-x:auto;line-height:normal;font-family:Menlo,'DejaVu Sans Mono',consolas,'Courier New',monospace\">┏━━━━━━━━━━━━━━━━━━━━━━━━━━━━━━━━━┳━━━━━━━━━━━━━━━━━━━━━━━━┳━━━━━━━━━━━━━━━┓\n",
       "┃<span style=\"font-weight: bold\"> Layer (type)                    </span>┃<span style=\"font-weight: bold\"> Output Shape           </span>┃<span style=\"font-weight: bold\">       Param # </span>┃\n",
       "┡━━━━━━━━━━━━━━━━━━━━━━━━━━━━━━━━━╇━━━━━━━━━━━━━━━━━━━━━━━━╇━━━━━━━━━━━━━━━┩\n",
       "│ input_layer (<span style=\"color: #0087ff; text-decoration-color: #0087ff\">InputLayer</span>)        │ (<span style=\"color: #00d7ff; text-decoration-color: #00d7ff\">None</span>, <span style=\"color: #00af00; text-decoration-color: #00af00\">224</span>, <span style=\"color: #00af00; text-decoration-color: #00af00\">224</span>, <span style=\"color: #00af00; text-decoration-color: #00af00\">3</span>)    │             <span style=\"color: #00af00; text-decoration-color: #00af00\">0</span> │\n",
       "├─────────────────────────────────┼────────────────────────┼───────────────┤\n",
       "│ block1_conv1 (<span style=\"color: #0087ff; text-decoration-color: #0087ff\">Conv2D</span>)           │ (<span style=\"color: #00d7ff; text-decoration-color: #00d7ff\">None</span>, <span style=\"color: #00af00; text-decoration-color: #00af00\">224</span>, <span style=\"color: #00af00; text-decoration-color: #00af00\">224</span>, <span style=\"color: #00af00; text-decoration-color: #00af00\">64</span>)   │         <span style=\"color: #00af00; text-decoration-color: #00af00\">1,792</span> │\n",
       "├─────────────────────────────────┼────────────────────────┼───────────────┤\n",
       "│ block1_conv2 (<span style=\"color: #0087ff; text-decoration-color: #0087ff\">Conv2D</span>)           │ (<span style=\"color: #00d7ff; text-decoration-color: #00d7ff\">None</span>, <span style=\"color: #00af00; text-decoration-color: #00af00\">224</span>, <span style=\"color: #00af00; text-decoration-color: #00af00\">224</span>, <span style=\"color: #00af00; text-decoration-color: #00af00\">64</span>)   │        <span style=\"color: #00af00; text-decoration-color: #00af00\">36,928</span> │\n",
       "├─────────────────────────────────┼────────────────────────┼───────────────┤\n",
       "│ block1_pool (<span style=\"color: #0087ff; text-decoration-color: #0087ff\">MaxPooling2D</span>)      │ (<span style=\"color: #00d7ff; text-decoration-color: #00d7ff\">None</span>, <span style=\"color: #00af00; text-decoration-color: #00af00\">112</span>, <span style=\"color: #00af00; text-decoration-color: #00af00\">112</span>, <span style=\"color: #00af00; text-decoration-color: #00af00\">64</span>)   │             <span style=\"color: #00af00; text-decoration-color: #00af00\">0</span> │\n",
       "├─────────────────────────────────┼────────────────────────┼───────────────┤\n",
       "│ block2_conv1 (<span style=\"color: #0087ff; text-decoration-color: #0087ff\">Conv2D</span>)           │ (<span style=\"color: #00d7ff; text-decoration-color: #00d7ff\">None</span>, <span style=\"color: #00af00; text-decoration-color: #00af00\">112</span>, <span style=\"color: #00af00; text-decoration-color: #00af00\">112</span>, <span style=\"color: #00af00; text-decoration-color: #00af00\">128</span>)  │        <span style=\"color: #00af00; text-decoration-color: #00af00\">73,856</span> │\n",
       "├─────────────────────────────────┼────────────────────────┼───────────────┤\n",
       "│ block2_conv2 (<span style=\"color: #0087ff; text-decoration-color: #0087ff\">Conv2D</span>)           │ (<span style=\"color: #00d7ff; text-decoration-color: #00d7ff\">None</span>, <span style=\"color: #00af00; text-decoration-color: #00af00\">112</span>, <span style=\"color: #00af00; text-decoration-color: #00af00\">112</span>, <span style=\"color: #00af00; text-decoration-color: #00af00\">128</span>)  │       <span style=\"color: #00af00; text-decoration-color: #00af00\">147,584</span> │\n",
       "├─────────────────────────────────┼────────────────────────┼───────────────┤\n",
       "│ block2_pool (<span style=\"color: #0087ff; text-decoration-color: #0087ff\">MaxPooling2D</span>)      │ (<span style=\"color: #00d7ff; text-decoration-color: #00d7ff\">None</span>, <span style=\"color: #00af00; text-decoration-color: #00af00\">56</span>, <span style=\"color: #00af00; text-decoration-color: #00af00\">56</span>, <span style=\"color: #00af00; text-decoration-color: #00af00\">128</span>)    │             <span style=\"color: #00af00; text-decoration-color: #00af00\">0</span> │\n",
       "├─────────────────────────────────┼────────────────────────┼───────────────┤\n",
       "│ block3_conv1 (<span style=\"color: #0087ff; text-decoration-color: #0087ff\">Conv2D</span>)           │ (<span style=\"color: #00d7ff; text-decoration-color: #00d7ff\">None</span>, <span style=\"color: #00af00; text-decoration-color: #00af00\">56</span>, <span style=\"color: #00af00; text-decoration-color: #00af00\">56</span>, <span style=\"color: #00af00; text-decoration-color: #00af00\">256</span>)    │       <span style=\"color: #00af00; text-decoration-color: #00af00\">295,168</span> │\n",
       "├─────────────────────────────────┼────────────────────────┼───────────────┤\n",
       "│ block3_conv2 (<span style=\"color: #0087ff; text-decoration-color: #0087ff\">Conv2D</span>)           │ (<span style=\"color: #00d7ff; text-decoration-color: #00d7ff\">None</span>, <span style=\"color: #00af00; text-decoration-color: #00af00\">56</span>, <span style=\"color: #00af00; text-decoration-color: #00af00\">56</span>, <span style=\"color: #00af00; text-decoration-color: #00af00\">256</span>)    │       <span style=\"color: #00af00; text-decoration-color: #00af00\">590,080</span> │\n",
       "├─────────────────────────────────┼────────────────────────┼───────────────┤\n",
       "│ block3_conv3 (<span style=\"color: #0087ff; text-decoration-color: #0087ff\">Conv2D</span>)           │ (<span style=\"color: #00d7ff; text-decoration-color: #00d7ff\">None</span>, <span style=\"color: #00af00; text-decoration-color: #00af00\">56</span>, <span style=\"color: #00af00; text-decoration-color: #00af00\">56</span>, <span style=\"color: #00af00; text-decoration-color: #00af00\">256</span>)    │       <span style=\"color: #00af00; text-decoration-color: #00af00\">590,080</span> │\n",
       "├─────────────────────────────────┼────────────────────────┼───────────────┤\n",
       "│ block3_pool (<span style=\"color: #0087ff; text-decoration-color: #0087ff\">MaxPooling2D</span>)      │ (<span style=\"color: #00d7ff; text-decoration-color: #00d7ff\">None</span>, <span style=\"color: #00af00; text-decoration-color: #00af00\">28</span>, <span style=\"color: #00af00; text-decoration-color: #00af00\">28</span>, <span style=\"color: #00af00; text-decoration-color: #00af00\">256</span>)    │             <span style=\"color: #00af00; text-decoration-color: #00af00\">0</span> │\n",
       "├─────────────────────────────────┼────────────────────────┼───────────────┤\n",
       "│ block4_conv1 (<span style=\"color: #0087ff; text-decoration-color: #0087ff\">Conv2D</span>)           │ (<span style=\"color: #00d7ff; text-decoration-color: #00d7ff\">None</span>, <span style=\"color: #00af00; text-decoration-color: #00af00\">28</span>, <span style=\"color: #00af00; text-decoration-color: #00af00\">28</span>, <span style=\"color: #00af00; text-decoration-color: #00af00\">512</span>)    │     <span style=\"color: #00af00; text-decoration-color: #00af00\">1,180,160</span> │\n",
       "├─────────────────────────────────┼────────────────────────┼───────────────┤\n",
       "│ block4_conv2 (<span style=\"color: #0087ff; text-decoration-color: #0087ff\">Conv2D</span>)           │ (<span style=\"color: #00d7ff; text-decoration-color: #00d7ff\">None</span>, <span style=\"color: #00af00; text-decoration-color: #00af00\">28</span>, <span style=\"color: #00af00; text-decoration-color: #00af00\">28</span>, <span style=\"color: #00af00; text-decoration-color: #00af00\">512</span>)    │     <span style=\"color: #00af00; text-decoration-color: #00af00\">2,359,808</span> │\n",
       "├─────────────────────────────────┼────────────────────────┼───────────────┤\n",
       "│ block4_conv3 (<span style=\"color: #0087ff; text-decoration-color: #0087ff\">Conv2D</span>)           │ (<span style=\"color: #00d7ff; text-decoration-color: #00d7ff\">None</span>, <span style=\"color: #00af00; text-decoration-color: #00af00\">28</span>, <span style=\"color: #00af00; text-decoration-color: #00af00\">28</span>, <span style=\"color: #00af00; text-decoration-color: #00af00\">512</span>)    │     <span style=\"color: #00af00; text-decoration-color: #00af00\">2,359,808</span> │\n",
       "├─────────────────────────────────┼────────────────────────┼───────────────┤\n",
       "│ block4_pool (<span style=\"color: #0087ff; text-decoration-color: #0087ff\">MaxPooling2D</span>)      │ (<span style=\"color: #00d7ff; text-decoration-color: #00d7ff\">None</span>, <span style=\"color: #00af00; text-decoration-color: #00af00\">14</span>, <span style=\"color: #00af00; text-decoration-color: #00af00\">14</span>, <span style=\"color: #00af00; text-decoration-color: #00af00\">512</span>)    │             <span style=\"color: #00af00; text-decoration-color: #00af00\">0</span> │\n",
       "├─────────────────────────────────┼────────────────────────┼───────────────┤\n",
       "│ block5_conv1 (<span style=\"color: #0087ff; text-decoration-color: #0087ff\">Conv2D</span>)           │ (<span style=\"color: #00d7ff; text-decoration-color: #00d7ff\">None</span>, <span style=\"color: #00af00; text-decoration-color: #00af00\">14</span>, <span style=\"color: #00af00; text-decoration-color: #00af00\">14</span>, <span style=\"color: #00af00; text-decoration-color: #00af00\">512</span>)    │     <span style=\"color: #00af00; text-decoration-color: #00af00\">2,359,808</span> │\n",
       "├─────────────────────────────────┼────────────────────────┼───────────────┤\n",
       "│ block5_conv2 (<span style=\"color: #0087ff; text-decoration-color: #0087ff\">Conv2D</span>)           │ (<span style=\"color: #00d7ff; text-decoration-color: #00d7ff\">None</span>, <span style=\"color: #00af00; text-decoration-color: #00af00\">14</span>, <span style=\"color: #00af00; text-decoration-color: #00af00\">14</span>, <span style=\"color: #00af00; text-decoration-color: #00af00\">512</span>)    │     <span style=\"color: #00af00; text-decoration-color: #00af00\">2,359,808</span> │\n",
       "├─────────────────────────────────┼────────────────────────┼───────────────┤\n",
       "│ block5_conv3 (<span style=\"color: #0087ff; text-decoration-color: #0087ff\">Conv2D</span>)           │ (<span style=\"color: #00d7ff; text-decoration-color: #00d7ff\">None</span>, <span style=\"color: #00af00; text-decoration-color: #00af00\">14</span>, <span style=\"color: #00af00; text-decoration-color: #00af00\">14</span>, <span style=\"color: #00af00; text-decoration-color: #00af00\">512</span>)    │     <span style=\"color: #00af00; text-decoration-color: #00af00\">2,359,808</span> │\n",
       "├─────────────────────────────────┼────────────────────────┼───────────────┤\n",
       "│ block5_pool (<span style=\"color: #0087ff; text-decoration-color: #0087ff\">MaxPooling2D</span>)      │ (<span style=\"color: #00d7ff; text-decoration-color: #00d7ff\">None</span>, <span style=\"color: #00af00; text-decoration-color: #00af00\">7</span>, <span style=\"color: #00af00; text-decoration-color: #00af00\">7</span>, <span style=\"color: #00af00; text-decoration-color: #00af00\">512</span>)      │             <span style=\"color: #00af00; text-decoration-color: #00af00\">0</span> │\n",
       "├─────────────────────────────────┼────────────────────────┼───────────────┤\n",
       "│ flatten (<span style=\"color: #0087ff; text-decoration-color: #0087ff\">Flatten</span>)               │ (<span style=\"color: #00d7ff; text-decoration-color: #00d7ff\">None</span>, <span style=\"color: #00af00; text-decoration-color: #00af00\">25088</span>)          │             <span style=\"color: #00af00; text-decoration-color: #00af00\">0</span> │\n",
       "├─────────────────────────────────┼────────────────────────┼───────────────┤\n",
       "│ dense (<span style=\"color: #0087ff; text-decoration-color: #0087ff\">Dense</span>)                   │ (<span style=\"color: #00d7ff; text-decoration-color: #00d7ff\">None</span>, <span style=\"color: #00af00; text-decoration-color: #00af00\">2</span>)              │        <span style=\"color: #00af00; text-decoration-color: #00af00\">50,178</span> │\n",
       "└─────────────────────────────────┴────────────────────────┴───────────────┘\n",
       "</pre>\n"
      ],
      "text/plain": [
       "┏━━━━━━━━━━━━━━━━━━━━━━━━━━━━━━━━━┳━━━━━━━━━━━━━━━━━━━━━━━━┳━━━━━━━━━━━━━━━┓\n",
       "┃\u001b[1m \u001b[0m\u001b[1mLayer (type)                   \u001b[0m\u001b[1m \u001b[0m┃\u001b[1m \u001b[0m\u001b[1mOutput Shape          \u001b[0m\u001b[1m \u001b[0m┃\u001b[1m \u001b[0m\u001b[1m      Param #\u001b[0m\u001b[1m \u001b[0m┃\n",
       "┡━━━━━━━━━━━━━━━━━━━━━━━━━━━━━━━━━╇━━━━━━━━━━━━━━━━━━━━━━━━╇━━━━━━━━━━━━━━━┩\n",
       "│ input_layer (\u001b[38;5;33mInputLayer\u001b[0m)        │ (\u001b[38;5;45mNone\u001b[0m, \u001b[38;5;34m224\u001b[0m, \u001b[38;5;34m224\u001b[0m, \u001b[38;5;34m3\u001b[0m)    │             \u001b[38;5;34m0\u001b[0m │\n",
       "├─────────────────────────────────┼────────────────────────┼───────────────┤\n",
       "│ block1_conv1 (\u001b[38;5;33mConv2D\u001b[0m)           │ (\u001b[38;5;45mNone\u001b[0m, \u001b[38;5;34m224\u001b[0m, \u001b[38;5;34m224\u001b[0m, \u001b[38;5;34m64\u001b[0m)   │         \u001b[38;5;34m1,792\u001b[0m │\n",
       "├─────────────────────────────────┼────────────────────────┼───────────────┤\n",
       "│ block1_conv2 (\u001b[38;5;33mConv2D\u001b[0m)           │ (\u001b[38;5;45mNone\u001b[0m, \u001b[38;5;34m224\u001b[0m, \u001b[38;5;34m224\u001b[0m, \u001b[38;5;34m64\u001b[0m)   │        \u001b[38;5;34m36,928\u001b[0m │\n",
       "├─────────────────────────────────┼────────────────────────┼───────────────┤\n",
       "│ block1_pool (\u001b[38;5;33mMaxPooling2D\u001b[0m)      │ (\u001b[38;5;45mNone\u001b[0m, \u001b[38;5;34m112\u001b[0m, \u001b[38;5;34m112\u001b[0m, \u001b[38;5;34m64\u001b[0m)   │             \u001b[38;5;34m0\u001b[0m │\n",
       "├─────────────────────────────────┼────────────────────────┼───────────────┤\n",
       "│ block2_conv1 (\u001b[38;5;33mConv2D\u001b[0m)           │ (\u001b[38;5;45mNone\u001b[0m, \u001b[38;5;34m112\u001b[0m, \u001b[38;5;34m112\u001b[0m, \u001b[38;5;34m128\u001b[0m)  │        \u001b[38;5;34m73,856\u001b[0m │\n",
       "├─────────────────────────────────┼────────────────────────┼───────────────┤\n",
       "│ block2_conv2 (\u001b[38;5;33mConv2D\u001b[0m)           │ (\u001b[38;5;45mNone\u001b[0m, \u001b[38;5;34m112\u001b[0m, \u001b[38;5;34m112\u001b[0m, \u001b[38;5;34m128\u001b[0m)  │       \u001b[38;5;34m147,584\u001b[0m │\n",
       "├─────────────────────────────────┼────────────────────────┼───────────────┤\n",
       "│ block2_pool (\u001b[38;5;33mMaxPooling2D\u001b[0m)      │ (\u001b[38;5;45mNone\u001b[0m, \u001b[38;5;34m56\u001b[0m, \u001b[38;5;34m56\u001b[0m, \u001b[38;5;34m128\u001b[0m)    │             \u001b[38;5;34m0\u001b[0m │\n",
       "├─────────────────────────────────┼────────────────────────┼───────────────┤\n",
       "│ block3_conv1 (\u001b[38;5;33mConv2D\u001b[0m)           │ (\u001b[38;5;45mNone\u001b[0m, \u001b[38;5;34m56\u001b[0m, \u001b[38;5;34m56\u001b[0m, \u001b[38;5;34m256\u001b[0m)    │       \u001b[38;5;34m295,168\u001b[0m │\n",
       "├─────────────────────────────────┼────────────────────────┼───────────────┤\n",
       "│ block3_conv2 (\u001b[38;5;33mConv2D\u001b[0m)           │ (\u001b[38;5;45mNone\u001b[0m, \u001b[38;5;34m56\u001b[0m, \u001b[38;5;34m56\u001b[0m, \u001b[38;5;34m256\u001b[0m)    │       \u001b[38;5;34m590,080\u001b[0m │\n",
       "├─────────────────────────────────┼────────────────────────┼───────────────┤\n",
       "│ block3_conv3 (\u001b[38;5;33mConv2D\u001b[0m)           │ (\u001b[38;5;45mNone\u001b[0m, \u001b[38;5;34m56\u001b[0m, \u001b[38;5;34m56\u001b[0m, \u001b[38;5;34m256\u001b[0m)    │       \u001b[38;5;34m590,080\u001b[0m │\n",
       "├─────────────────────────────────┼────────────────────────┼───────────────┤\n",
       "│ block3_pool (\u001b[38;5;33mMaxPooling2D\u001b[0m)      │ (\u001b[38;5;45mNone\u001b[0m, \u001b[38;5;34m28\u001b[0m, \u001b[38;5;34m28\u001b[0m, \u001b[38;5;34m256\u001b[0m)    │             \u001b[38;5;34m0\u001b[0m │\n",
       "├─────────────────────────────────┼────────────────────────┼───────────────┤\n",
       "│ block4_conv1 (\u001b[38;5;33mConv2D\u001b[0m)           │ (\u001b[38;5;45mNone\u001b[0m, \u001b[38;5;34m28\u001b[0m, \u001b[38;5;34m28\u001b[0m, \u001b[38;5;34m512\u001b[0m)    │     \u001b[38;5;34m1,180,160\u001b[0m │\n",
       "├─────────────────────────────────┼────────────────────────┼───────────────┤\n",
       "│ block4_conv2 (\u001b[38;5;33mConv2D\u001b[0m)           │ (\u001b[38;5;45mNone\u001b[0m, \u001b[38;5;34m28\u001b[0m, \u001b[38;5;34m28\u001b[0m, \u001b[38;5;34m512\u001b[0m)    │     \u001b[38;5;34m2,359,808\u001b[0m │\n",
       "├─────────────────────────────────┼────────────────────────┼───────────────┤\n",
       "│ block4_conv3 (\u001b[38;5;33mConv2D\u001b[0m)           │ (\u001b[38;5;45mNone\u001b[0m, \u001b[38;5;34m28\u001b[0m, \u001b[38;5;34m28\u001b[0m, \u001b[38;5;34m512\u001b[0m)    │     \u001b[38;5;34m2,359,808\u001b[0m │\n",
       "├─────────────────────────────────┼────────────────────────┼───────────────┤\n",
       "│ block4_pool (\u001b[38;5;33mMaxPooling2D\u001b[0m)      │ (\u001b[38;5;45mNone\u001b[0m, \u001b[38;5;34m14\u001b[0m, \u001b[38;5;34m14\u001b[0m, \u001b[38;5;34m512\u001b[0m)    │             \u001b[38;5;34m0\u001b[0m │\n",
       "├─────────────────────────────────┼────────────────────────┼───────────────┤\n",
       "│ block5_conv1 (\u001b[38;5;33mConv2D\u001b[0m)           │ (\u001b[38;5;45mNone\u001b[0m, \u001b[38;5;34m14\u001b[0m, \u001b[38;5;34m14\u001b[0m, \u001b[38;5;34m512\u001b[0m)    │     \u001b[38;5;34m2,359,808\u001b[0m │\n",
       "├─────────────────────────────────┼────────────────────────┼───────────────┤\n",
       "│ block5_conv2 (\u001b[38;5;33mConv2D\u001b[0m)           │ (\u001b[38;5;45mNone\u001b[0m, \u001b[38;5;34m14\u001b[0m, \u001b[38;5;34m14\u001b[0m, \u001b[38;5;34m512\u001b[0m)    │     \u001b[38;5;34m2,359,808\u001b[0m │\n",
       "├─────────────────────────────────┼────────────────────────┼───────────────┤\n",
       "│ block5_conv3 (\u001b[38;5;33mConv2D\u001b[0m)           │ (\u001b[38;5;45mNone\u001b[0m, \u001b[38;5;34m14\u001b[0m, \u001b[38;5;34m14\u001b[0m, \u001b[38;5;34m512\u001b[0m)    │     \u001b[38;5;34m2,359,808\u001b[0m │\n",
       "├─────────────────────────────────┼────────────────────────┼───────────────┤\n",
       "│ block5_pool (\u001b[38;5;33mMaxPooling2D\u001b[0m)      │ (\u001b[38;5;45mNone\u001b[0m, \u001b[38;5;34m7\u001b[0m, \u001b[38;5;34m7\u001b[0m, \u001b[38;5;34m512\u001b[0m)      │             \u001b[38;5;34m0\u001b[0m │\n",
       "├─────────────────────────────────┼────────────────────────┼───────────────┤\n",
       "│ flatten (\u001b[38;5;33mFlatten\u001b[0m)               │ (\u001b[38;5;45mNone\u001b[0m, \u001b[38;5;34m25088\u001b[0m)          │             \u001b[38;5;34m0\u001b[0m │\n",
       "├─────────────────────────────────┼────────────────────────┼───────────────┤\n",
       "│ dense (\u001b[38;5;33mDense\u001b[0m)                   │ (\u001b[38;5;45mNone\u001b[0m, \u001b[38;5;34m2\u001b[0m)              │        \u001b[38;5;34m50,178\u001b[0m │\n",
       "└─────────────────────────────────┴────────────────────────┴───────────────┘\n"
      ]
     },
     "metadata": {},
     "output_type": "display_data"
    },
    {
     "data": {
      "text/html": [
       "<pre style=\"white-space:pre;overflow-x:auto;line-height:normal;font-family:Menlo,'DejaVu Sans Mono',consolas,'Courier New',monospace\"><span style=\"font-weight: bold\"> Total params: </span><span style=\"color: #00af00; text-decoration-color: #00af00\">14,764,866</span> (56.32 MB)\n",
       "</pre>\n"
      ],
      "text/plain": [
       "\u001b[1m Total params: \u001b[0m\u001b[38;5;34m14,764,866\u001b[0m (56.32 MB)\n"
      ]
     },
     "metadata": {},
     "output_type": "display_data"
    },
    {
     "data": {
      "text/html": [
       "<pre style=\"white-space:pre;overflow-x:auto;line-height:normal;font-family:Menlo,'DejaVu Sans Mono',consolas,'Courier New',monospace\"><span style=\"font-weight: bold\"> Trainable params: </span><span style=\"color: #00af00; text-decoration-color: #00af00\">50,178</span> (196.01 KB)\n",
       "</pre>\n"
      ],
      "text/plain": [
       "\u001b[1m Trainable params: \u001b[0m\u001b[38;5;34m50,178\u001b[0m (196.01 KB)\n"
      ]
     },
     "metadata": {},
     "output_type": "display_data"
    },
    {
     "data": {
      "text/html": [
       "<pre style=\"white-space:pre;overflow-x:auto;line-height:normal;font-family:Menlo,'DejaVu Sans Mono',consolas,'Courier New',monospace\"><span style=\"font-weight: bold\"> Non-trainable params: </span><span style=\"color: #00af00; text-decoration-color: #00af00\">14,714,688</span> (56.13 MB)\n",
       "</pre>\n"
      ],
      "text/plain": [
       "\u001b[1m Non-trainable params: \u001b[0m\u001b[38;5;34m14,714,688\u001b[0m (56.13 MB)\n"
      ]
     },
     "metadata": {},
     "output_type": "display_data"
    },
    {
     "name": "stdout",
     "output_type": "stream",
     "text": [
      "Found 5216 images belonging to 2 classes.\n",
      "Found 624 images belonging to 2 classes.\n",
      "\n",
      "Training Original Model...\n",
      "Epoch 1/5\n"
     ]
    },
    {
     "name": "stderr",
     "output_type": "stream",
     "text": [
      "/Users/bobbytomlinson/Desktop/Coding/Personal/001/001venv/lib/python3.12/site-packages/keras/src/trainers/data_adapters/py_dataset_adapter.py:121: UserWarning: Your `PyDataset` class should call `super().__init__(**kwargs)` in its constructor. `**kwargs` can include `workers`, `use_multiprocessing`, `max_queue_size`. Do not pass these arguments to `fit()`, as they will be ignored.\n",
      "  self._warn_if_super_not_called()\n"
     ]
    },
    {
     "name": "stdout",
     "output_type": "stream",
     "text": [
      "\u001b[1m1304/1304\u001b[0m \u001b[32m━━━━━━━━━━━━━━━━━━━━\u001b[0m\u001b[37m\u001b[0m \u001b[1m380s\u001b[0m 291ms/step - accuracy: 0.8945 - loss: 0.3500 - val_accuracy: 0.8462 - val_loss: 0.7920\n",
      "Epoch 2/5\n",
      "\u001b[1m1304/1304\u001b[0m \u001b[32m━━━━━━━━━━━━━━━━━━━━\u001b[0m\u001b[37m\u001b[0m \u001b[1m380s\u001b[0m 291ms/step - accuracy: 0.9380 - loss: 0.2886 - val_accuracy: 0.9215 - val_loss: 0.5385\n",
      "Epoch 3/5\n",
      "\u001b[1m1304/1304\u001b[0m \u001b[32m━━━━━━━━━━━━━━━━━━━━\u001b[0m\u001b[37m\u001b[0m \u001b[1m380s\u001b[0m 291ms/step - accuracy: 0.9593 - loss: 0.1939 - val_accuracy: 0.9103 - val_loss: 0.6569\n",
      "Epoch 4/5\n",
      "\u001b[1m1304/1304\u001b[0m \u001b[32m━━━━━━━━━━━━━━━━━━━━\u001b[0m\u001b[37m\u001b[0m \u001b[1m375s\u001b[0m 288ms/step - accuracy: 0.9610 - loss: 0.2268 - val_accuracy: 0.8942 - val_loss: 1.0403\n",
      "Epoch 5/5\n",
      "\u001b[1m1304/1304\u001b[0m \u001b[32m━━━━━━━━━━━━━━━━━━━━\u001b[0m\u001b[37m\u001b[0m \u001b[1m382s\u001b[0m 293ms/step - accuracy: 0.9632 - loss: 0.2121 - val_accuracy: 0.8894 - val_loss: 1.3619\n",
      "\u001b[1m156/156\u001b[0m \u001b[32m━━━━━━━━━━━━━━━━━━━━\u001b[0m\u001b[37m\u001b[0m \u001b[1m43s\u001b[0m 277ms/step - accuracy: 0.8910 - loss: 1.4066\n",
      "\n",
      "Original Model Evaluation: [1.3618521690368652, 0.8894230723381042]\n",
      "\u001b[1m156/156\u001b[0m \u001b[32m━━━━━━━━━━━━━━━━━━━━\u001b[0m\u001b[37m\u001b[0m \u001b[1m43s\u001b[0m 273ms/step\n",
      "Confusion Matrix (Original):\n",
      " [[ 61 173]\n",
      " [108 282]]\n",
      "Classification Report (Original):\n",
      "               precision    recall  f1-score   support\n",
      "\n",
      "      NORMAL       0.36      0.26      0.30       234\n",
      "   PNEUMONIA       0.62      0.72      0.67       390\n",
      "\n",
      "    accuracy                           0.55       624\n",
      "   macro avg       0.49      0.49      0.49       624\n",
      "weighted avg       0.52      0.55      0.53       624\n",
      "\n"
     ]
    }
   ],
   "source": [
    "def build_original_model():\n",
    "    base_model = VGG16(input_shape=IMG_SHAPE, weights='imagenet', include_top=False)\n",
    "    # Freeze base model layers\n",
    "    for layer in base_model.layers:\n",
    "        layer.trainable = False\n",
    "    x = Flatten()(base_model.output)\n",
    "    output = Dense(NUM_CLASSES, activation='softmax')(x)\n",
    "    return Model(inputs=base_model.input, outputs=output)\n",
    "\n",
    "original_model = build_original_model()\n",
    "original_model.compile(loss='categorical_crossentropy', optimizer='adam', metrics=['accuracy'])\n",
    "original_model.summary()\n",
    "\n",
    "# Train using ImageDataGenerator (note: for demo, epochs are kept low)\n",
    "train_datagen = ImageDataGenerator(rescale=1./255, shear_range=0.2, zoom_range=0.2, horizontal_flip=True)\n",
    "test_datagen  = ImageDataGenerator(rescale=1./255)\n",
    "train_generator = train_datagen.flow_from_directory(\n",
    "    TRAIN_DIR, target_size=(IMG_HEIGHT, IMG_WIDTH), batch_size=4, class_mode='categorical')\n",
    "test_generator = test_datagen.flow_from_directory(\n",
    "    TEST_DIR, target_size=(IMG_HEIGHT, IMG_WIDTH), batch_size=4, class_mode='categorical')\n",
    "\n",
    "print(\"\\nTraining Original Model...\")\n",
    "t0 = time.time()\n",
    "original_history = original_model.fit(train_generator,\n",
    "                                      validation_data=test_generator,\n",
    "                                      epochs=5,\n",
    "                                      steps_per_epoch=len(train_generator),\n",
    "                                      validation_steps=len(test_generator))\n",
    "original_training_time = time.time() - t0\n",
    "\n",
    "# Evaluate original model on the test set:\n",
    "original_eval = original_model.evaluate(test_generator, steps=len(test_generator))\n",
    "print(\"\\nOriginal Model Evaluation:\", original_eval)\n",
    "y_pred = np.argmax(original_model.predict(test_generator, steps=len(test_generator)), axis=1)\n",
    "y_true = test_generator.classes\n",
    "cm_original = confusion_matrix(y_true, y_pred)\n",
    "report_original = classification_report(y_true, y_pred, target_names=list(test_generator.class_indices.keys()))\n",
    "print(\"Confusion Matrix (Original):\\n\", cm_original)\n",
    "print(\"Classification Report (Original):\\n\", report_original)\n",
    "\n",
    "# Save the original model:\n",
    "original_model.save('models/original_model.h5')\n",
    "print(\"Saved original_model.h5\")"
   ]
  },
  {
   "cell_type": "code",
   "execution_count": 23,
   "metadata": {},
   "outputs": [
    {
     "data": {
      "text/html": [
       "<pre style=\"white-space:pre;overflow-x:auto;line-height:normal;font-family:Menlo,'DejaVu Sans Mono',consolas,'Courier New',monospace\"><span style=\"font-weight: bold\">Model: \"Backbone\"</span>\n",
       "</pre>\n"
      ],
      "text/plain": [
       "\u001b[1mModel: \"Backbone\"\u001b[0m\n"
      ]
     },
     "metadata": {},
     "output_type": "display_data"
    },
    {
     "data": {
      "text/html": [
       "<pre style=\"white-space:pre;overflow-x:auto;line-height:normal;font-family:Menlo,'DejaVu Sans Mono',consolas,'Courier New',monospace\">┏━━━━━━━━━━━━━━━━━━━━━━━━━━━━━━━━━┳━━━━━━━━━━━━━━━━━━━━━━━━┳━━━━━━━━━━━━━━━┓\n",
       "┃<span style=\"font-weight: bold\"> Layer (type)                    </span>┃<span style=\"font-weight: bold\"> Output Shape           </span>┃<span style=\"font-weight: bold\">       Param # </span>┃\n",
       "┡━━━━━━━━━━━━━━━━━━━━━━━━━━━━━━━━━╇━━━━━━━━━━━━━━━━━━━━━━━━╇━━━━━━━━━━━━━━━┩\n",
       "│ input_layer_4 (<span style=\"color: #0087ff; text-decoration-color: #0087ff\">InputLayer</span>)      │ (<span style=\"color: #00d7ff; text-decoration-color: #00d7ff\">None</span>, <span style=\"color: #00af00; text-decoration-color: #00af00\">224</span>, <span style=\"color: #00af00; text-decoration-color: #00af00\">224</span>, <span style=\"color: #00af00; text-decoration-color: #00af00\">3</span>)    │             <span style=\"color: #00af00; text-decoration-color: #00af00\">0</span> │\n",
       "├─────────────────────────────────┼────────────────────────┼───────────────┤\n",
       "│ block1_conv1 (<span style=\"color: #0087ff; text-decoration-color: #0087ff\">Conv2D</span>)           │ (<span style=\"color: #00d7ff; text-decoration-color: #00d7ff\">None</span>, <span style=\"color: #00af00; text-decoration-color: #00af00\">224</span>, <span style=\"color: #00af00; text-decoration-color: #00af00\">224</span>, <span style=\"color: #00af00; text-decoration-color: #00af00\">64</span>)   │         <span style=\"color: #00af00; text-decoration-color: #00af00\">1,792</span> │\n",
       "├─────────────────────────────────┼────────────────────────┼───────────────┤\n",
       "│ block1_conv2 (<span style=\"color: #0087ff; text-decoration-color: #0087ff\">Conv2D</span>)           │ (<span style=\"color: #00d7ff; text-decoration-color: #00d7ff\">None</span>, <span style=\"color: #00af00; text-decoration-color: #00af00\">224</span>, <span style=\"color: #00af00; text-decoration-color: #00af00\">224</span>, <span style=\"color: #00af00; text-decoration-color: #00af00\">64</span>)   │        <span style=\"color: #00af00; text-decoration-color: #00af00\">36,928</span> │\n",
       "├─────────────────────────────────┼────────────────────────┼───────────────┤\n",
       "│ block1_pool (<span style=\"color: #0087ff; text-decoration-color: #0087ff\">MaxPooling2D</span>)      │ (<span style=\"color: #00d7ff; text-decoration-color: #00d7ff\">None</span>, <span style=\"color: #00af00; text-decoration-color: #00af00\">112</span>, <span style=\"color: #00af00; text-decoration-color: #00af00\">112</span>, <span style=\"color: #00af00; text-decoration-color: #00af00\">64</span>)   │             <span style=\"color: #00af00; text-decoration-color: #00af00\">0</span> │\n",
       "├─────────────────────────────────┼────────────────────────┼───────────────┤\n",
       "│ block2_conv1 (<span style=\"color: #0087ff; text-decoration-color: #0087ff\">Conv2D</span>)           │ (<span style=\"color: #00d7ff; text-decoration-color: #00d7ff\">None</span>, <span style=\"color: #00af00; text-decoration-color: #00af00\">112</span>, <span style=\"color: #00af00; text-decoration-color: #00af00\">112</span>, <span style=\"color: #00af00; text-decoration-color: #00af00\">128</span>)  │        <span style=\"color: #00af00; text-decoration-color: #00af00\">73,856</span> │\n",
       "├─────────────────────────────────┼────────────────────────┼───────────────┤\n",
       "│ block2_conv2 (<span style=\"color: #0087ff; text-decoration-color: #0087ff\">Conv2D</span>)           │ (<span style=\"color: #00d7ff; text-decoration-color: #00d7ff\">None</span>, <span style=\"color: #00af00; text-decoration-color: #00af00\">112</span>, <span style=\"color: #00af00; text-decoration-color: #00af00\">112</span>, <span style=\"color: #00af00; text-decoration-color: #00af00\">128</span>)  │       <span style=\"color: #00af00; text-decoration-color: #00af00\">147,584</span> │\n",
       "├─────────────────────────────────┼────────────────────────┼───────────────┤\n",
       "│ block2_pool (<span style=\"color: #0087ff; text-decoration-color: #0087ff\">MaxPooling2D</span>)      │ (<span style=\"color: #00d7ff; text-decoration-color: #00d7ff\">None</span>, <span style=\"color: #00af00; text-decoration-color: #00af00\">56</span>, <span style=\"color: #00af00; text-decoration-color: #00af00\">56</span>, <span style=\"color: #00af00; text-decoration-color: #00af00\">128</span>)    │             <span style=\"color: #00af00; text-decoration-color: #00af00\">0</span> │\n",
       "├─────────────────────────────────┼────────────────────────┼───────────────┤\n",
       "│ block3_conv1 (<span style=\"color: #0087ff; text-decoration-color: #0087ff\">Conv2D</span>)           │ (<span style=\"color: #00d7ff; text-decoration-color: #00d7ff\">None</span>, <span style=\"color: #00af00; text-decoration-color: #00af00\">56</span>, <span style=\"color: #00af00; text-decoration-color: #00af00\">56</span>, <span style=\"color: #00af00; text-decoration-color: #00af00\">256</span>)    │       <span style=\"color: #00af00; text-decoration-color: #00af00\">295,168</span> │\n",
       "├─────────────────────────────────┼────────────────────────┼───────────────┤\n",
       "│ block3_conv2 (<span style=\"color: #0087ff; text-decoration-color: #0087ff\">Conv2D</span>)           │ (<span style=\"color: #00d7ff; text-decoration-color: #00d7ff\">None</span>, <span style=\"color: #00af00; text-decoration-color: #00af00\">56</span>, <span style=\"color: #00af00; text-decoration-color: #00af00\">56</span>, <span style=\"color: #00af00; text-decoration-color: #00af00\">256</span>)    │       <span style=\"color: #00af00; text-decoration-color: #00af00\">590,080</span> │\n",
       "├─────────────────────────────────┼────────────────────────┼───────────────┤\n",
       "│ block3_conv3 (<span style=\"color: #0087ff; text-decoration-color: #0087ff\">Conv2D</span>)           │ (<span style=\"color: #00d7ff; text-decoration-color: #00d7ff\">None</span>, <span style=\"color: #00af00; text-decoration-color: #00af00\">56</span>, <span style=\"color: #00af00; text-decoration-color: #00af00\">56</span>, <span style=\"color: #00af00; text-decoration-color: #00af00\">256</span>)    │       <span style=\"color: #00af00; text-decoration-color: #00af00\">590,080</span> │\n",
       "├─────────────────────────────────┼────────────────────────┼───────────────┤\n",
       "│ block3_pool (<span style=\"color: #0087ff; text-decoration-color: #0087ff\">MaxPooling2D</span>)      │ (<span style=\"color: #00d7ff; text-decoration-color: #00d7ff\">None</span>, <span style=\"color: #00af00; text-decoration-color: #00af00\">28</span>, <span style=\"color: #00af00; text-decoration-color: #00af00\">28</span>, <span style=\"color: #00af00; text-decoration-color: #00af00\">256</span>)    │             <span style=\"color: #00af00; text-decoration-color: #00af00\">0</span> │\n",
       "├─────────────────────────────────┼────────────────────────┼───────────────┤\n",
       "│ block4_conv1 (<span style=\"color: #0087ff; text-decoration-color: #0087ff\">Conv2D</span>)           │ (<span style=\"color: #00d7ff; text-decoration-color: #00d7ff\">None</span>, <span style=\"color: #00af00; text-decoration-color: #00af00\">28</span>, <span style=\"color: #00af00; text-decoration-color: #00af00\">28</span>, <span style=\"color: #00af00; text-decoration-color: #00af00\">512</span>)    │     <span style=\"color: #00af00; text-decoration-color: #00af00\">1,180,160</span> │\n",
       "├─────────────────────────────────┼────────────────────────┼───────────────┤\n",
       "│ block4_conv2 (<span style=\"color: #0087ff; text-decoration-color: #0087ff\">Conv2D</span>)           │ (<span style=\"color: #00d7ff; text-decoration-color: #00d7ff\">None</span>, <span style=\"color: #00af00; text-decoration-color: #00af00\">28</span>, <span style=\"color: #00af00; text-decoration-color: #00af00\">28</span>, <span style=\"color: #00af00; text-decoration-color: #00af00\">512</span>)    │     <span style=\"color: #00af00; text-decoration-color: #00af00\">2,359,808</span> │\n",
       "├─────────────────────────────────┼────────────────────────┼───────────────┤\n",
       "│ block4_conv3 (<span style=\"color: #0087ff; text-decoration-color: #0087ff\">Conv2D</span>)           │ (<span style=\"color: #00d7ff; text-decoration-color: #00d7ff\">None</span>, <span style=\"color: #00af00; text-decoration-color: #00af00\">28</span>, <span style=\"color: #00af00; text-decoration-color: #00af00\">28</span>, <span style=\"color: #00af00; text-decoration-color: #00af00\">512</span>)    │     <span style=\"color: #00af00; text-decoration-color: #00af00\">2,359,808</span> │\n",
       "├─────────────────────────────────┼────────────────────────┼───────────────┤\n",
       "│ block4_pool (<span style=\"color: #0087ff; text-decoration-color: #0087ff\">MaxPooling2D</span>)      │ (<span style=\"color: #00d7ff; text-decoration-color: #00d7ff\">None</span>, <span style=\"color: #00af00; text-decoration-color: #00af00\">14</span>, <span style=\"color: #00af00; text-decoration-color: #00af00\">14</span>, <span style=\"color: #00af00; text-decoration-color: #00af00\">512</span>)    │             <span style=\"color: #00af00; text-decoration-color: #00af00\">0</span> │\n",
       "├─────────────────────────────────┼────────────────────────┼───────────────┤\n",
       "│ block5_conv1 (<span style=\"color: #0087ff; text-decoration-color: #0087ff\">Conv2D</span>)           │ (<span style=\"color: #00d7ff; text-decoration-color: #00d7ff\">None</span>, <span style=\"color: #00af00; text-decoration-color: #00af00\">14</span>, <span style=\"color: #00af00; text-decoration-color: #00af00\">14</span>, <span style=\"color: #00af00; text-decoration-color: #00af00\">512</span>)    │     <span style=\"color: #00af00; text-decoration-color: #00af00\">2,359,808</span> │\n",
       "├─────────────────────────────────┼────────────────────────┼───────────────┤\n",
       "│ block5_conv2 (<span style=\"color: #0087ff; text-decoration-color: #0087ff\">Conv2D</span>)           │ (<span style=\"color: #00d7ff; text-decoration-color: #00d7ff\">None</span>, <span style=\"color: #00af00; text-decoration-color: #00af00\">14</span>, <span style=\"color: #00af00; text-decoration-color: #00af00\">14</span>, <span style=\"color: #00af00; text-decoration-color: #00af00\">512</span>)    │     <span style=\"color: #00af00; text-decoration-color: #00af00\">2,359,808</span> │\n",
       "├─────────────────────────────────┼────────────────────────┼───────────────┤\n",
       "│ block5_conv3 (<span style=\"color: #0087ff; text-decoration-color: #0087ff\">Conv2D</span>)           │ (<span style=\"color: #00d7ff; text-decoration-color: #00d7ff\">None</span>, <span style=\"color: #00af00; text-decoration-color: #00af00\">14</span>, <span style=\"color: #00af00; text-decoration-color: #00af00\">14</span>, <span style=\"color: #00af00; text-decoration-color: #00af00\">512</span>)    │     <span style=\"color: #00af00; text-decoration-color: #00af00\">2,359,808</span> │\n",
       "├─────────────────────────────────┼────────────────────────┼───────────────┤\n",
       "│ block5_pool (<span style=\"color: #0087ff; text-decoration-color: #0087ff\">MaxPooling2D</span>)      │ (<span style=\"color: #00d7ff; text-decoration-color: #00d7ff\">None</span>, <span style=\"color: #00af00; text-decoration-color: #00af00\">7</span>, <span style=\"color: #00af00; text-decoration-color: #00af00\">7</span>, <span style=\"color: #00af00; text-decoration-color: #00af00\">512</span>)      │             <span style=\"color: #00af00; text-decoration-color: #00af00\">0</span> │\n",
       "├─────────────────────────────────┼────────────────────────┼───────────────┤\n",
       "│ flatten_3 (<span style=\"color: #0087ff; text-decoration-color: #0087ff\">Flatten</span>)             │ (<span style=\"color: #00d7ff; text-decoration-color: #00d7ff\">None</span>, <span style=\"color: #00af00; text-decoration-color: #00af00\">25088</span>)          │             <span style=\"color: #00af00; text-decoration-color: #00af00\">0</span> │\n",
       "├─────────────────────────────────┼────────────────────────┼───────────────┤\n",
       "│ embedding (<span style=\"color: #0087ff; text-decoration-color: #0087ff\">Dense</span>)               │ (<span style=\"color: #00d7ff; text-decoration-color: #00d7ff\">None</span>, <span style=\"color: #00af00; text-decoration-color: #00af00\">128</span>)            │     <span style=\"color: #00af00; text-decoration-color: #00af00\">3,211,392</span> │\n",
       "└─────────────────────────────────┴────────────────────────┴───────────────┘\n",
       "</pre>\n"
      ],
      "text/plain": [
       "┏━━━━━━━━━━━━━━━━━━━━━━━━━━━━━━━━━┳━━━━━━━━━━━━━━━━━━━━━━━━┳━━━━━━━━━━━━━━━┓\n",
       "┃\u001b[1m \u001b[0m\u001b[1mLayer (type)                   \u001b[0m\u001b[1m \u001b[0m┃\u001b[1m \u001b[0m\u001b[1mOutput Shape          \u001b[0m\u001b[1m \u001b[0m┃\u001b[1m \u001b[0m\u001b[1m      Param #\u001b[0m\u001b[1m \u001b[0m┃\n",
       "┡━━━━━━━━━━━━━━━━━━━━━━━━━━━━━━━━━╇━━━━━━━━━━━━━━━━━━━━━━━━╇━━━━━━━━━━━━━━━┩\n",
       "│ input_layer_4 (\u001b[38;5;33mInputLayer\u001b[0m)      │ (\u001b[38;5;45mNone\u001b[0m, \u001b[38;5;34m224\u001b[0m, \u001b[38;5;34m224\u001b[0m, \u001b[38;5;34m3\u001b[0m)    │             \u001b[38;5;34m0\u001b[0m │\n",
       "├─────────────────────────────────┼────────────────────────┼───────────────┤\n",
       "│ block1_conv1 (\u001b[38;5;33mConv2D\u001b[0m)           │ (\u001b[38;5;45mNone\u001b[0m, \u001b[38;5;34m224\u001b[0m, \u001b[38;5;34m224\u001b[0m, \u001b[38;5;34m64\u001b[0m)   │         \u001b[38;5;34m1,792\u001b[0m │\n",
       "├─────────────────────────────────┼────────────────────────┼───────────────┤\n",
       "│ block1_conv2 (\u001b[38;5;33mConv2D\u001b[0m)           │ (\u001b[38;5;45mNone\u001b[0m, \u001b[38;5;34m224\u001b[0m, \u001b[38;5;34m224\u001b[0m, \u001b[38;5;34m64\u001b[0m)   │        \u001b[38;5;34m36,928\u001b[0m │\n",
       "├─────────────────────────────────┼────────────────────────┼───────────────┤\n",
       "│ block1_pool (\u001b[38;5;33mMaxPooling2D\u001b[0m)      │ (\u001b[38;5;45mNone\u001b[0m, \u001b[38;5;34m112\u001b[0m, \u001b[38;5;34m112\u001b[0m, \u001b[38;5;34m64\u001b[0m)   │             \u001b[38;5;34m0\u001b[0m │\n",
       "├─────────────────────────────────┼────────────────────────┼───────────────┤\n",
       "│ block2_conv1 (\u001b[38;5;33mConv2D\u001b[0m)           │ (\u001b[38;5;45mNone\u001b[0m, \u001b[38;5;34m112\u001b[0m, \u001b[38;5;34m112\u001b[0m, \u001b[38;5;34m128\u001b[0m)  │        \u001b[38;5;34m73,856\u001b[0m │\n",
       "├─────────────────────────────────┼────────────────────────┼───────────────┤\n",
       "│ block2_conv2 (\u001b[38;5;33mConv2D\u001b[0m)           │ (\u001b[38;5;45mNone\u001b[0m, \u001b[38;5;34m112\u001b[0m, \u001b[38;5;34m112\u001b[0m, \u001b[38;5;34m128\u001b[0m)  │       \u001b[38;5;34m147,584\u001b[0m │\n",
       "├─────────────────────────────────┼────────────────────────┼───────────────┤\n",
       "│ block2_pool (\u001b[38;5;33mMaxPooling2D\u001b[0m)      │ (\u001b[38;5;45mNone\u001b[0m, \u001b[38;5;34m56\u001b[0m, \u001b[38;5;34m56\u001b[0m, \u001b[38;5;34m128\u001b[0m)    │             \u001b[38;5;34m0\u001b[0m │\n",
       "├─────────────────────────────────┼────────────────────────┼───────────────┤\n",
       "│ block3_conv1 (\u001b[38;5;33mConv2D\u001b[0m)           │ (\u001b[38;5;45mNone\u001b[0m, \u001b[38;5;34m56\u001b[0m, \u001b[38;5;34m56\u001b[0m, \u001b[38;5;34m256\u001b[0m)    │       \u001b[38;5;34m295,168\u001b[0m │\n",
       "├─────────────────────────────────┼────────────────────────┼───────────────┤\n",
       "│ block3_conv2 (\u001b[38;5;33mConv2D\u001b[0m)           │ (\u001b[38;5;45mNone\u001b[0m, \u001b[38;5;34m56\u001b[0m, \u001b[38;5;34m56\u001b[0m, \u001b[38;5;34m256\u001b[0m)    │       \u001b[38;5;34m590,080\u001b[0m │\n",
       "├─────────────────────────────────┼────────────────────────┼───────────────┤\n",
       "│ block3_conv3 (\u001b[38;5;33mConv2D\u001b[0m)           │ (\u001b[38;5;45mNone\u001b[0m, \u001b[38;5;34m56\u001b[0m, \u001b[38;5;34m56\u001b[0m, \u001b[38;5;34m256\u001b[0m)    │       \u001b[38;5;34m590,080\u001b[0m │\n",
       "├─────────────────────────────────┼────────────────────────┼───────────────┤\n",
       "│ block3_pool (\u001b[38;5;33mMaxPooling2D\u001b[0m)      │ (\u001b[38;5;45mNone\u001b[0m, \u001b[38;5;34m28\u001b[0m, \u001b[38;5;34m28\u001b[0m, \u001b[38;5;34m256\u001b[0m)    │             \u001b[38;5;34m0\u001b[0m │\n",
       "├─────────────────────────────────┼────────────────────────┼───────────────┤\n",
       "│ block4_conv1 (\u001b[38;5;33mConv2D\u001b[0m)           │ (\u001b[38;5;45mNone\u001b[0m, \u001b[38;5;34m28\u001b[0m, \u001b[38;5;34m28\u001b[0m, \u001b[38;5;34m512\u001b[0m)    │     \u001b[38;5;34m1,180,160\u001b[0m │\n",
       "├─────────────────────────────────┼────────────────────────┼───────────────┤\n",
       "│ block4_conv2 (\u001b[38;5;33mConv2D\u001b[0m)           │ (\u001b[38;5;45mNone\u001b[0m, \u001b[38;5;34m28\u001b[0m, \u001b[38;5;34m28\u001b[0m, \u001b[38;5;34m512\u001b[0m)    │     \u001b[38;5;34m2,359,808\u001b[0m │\n",
       "├─────────────────────────────────┼────────────────────────┼───────────────┤\n",
       "│ block4_conv3 (\u001b[38;5;33mConv2D\u001b[0m)           │ (\u001b[38;5;45mNone\u001b[0m, \u001b[38;5;34m28\u001b[0m, \u001b[38;5;34m28\u001b[0m, \u001b[38;5;34m512\u001b[0m)    │     \u001b[38;5;34m2,359,808\u001b[0m │\n",
       "├─────────────────────────────────┼────────────────────────┼───────────────┤\n",
       "│ block4_pool (\u001b[38;5;33mMaxPooling2D\u001b[0m)      │ (\u001b[38;5;45mNone\u001b[0m, \u001b[38;5;34m14\u001b[0m, \u001b[38;5;34m14\u001b[0m, \u001b[38;5;34m512\u001b[0m)    │             \u001b[38;5;34m0\u001b[0m │\n",
       "├─────────────────────────────────┼────────────────────────┼───────────────┤\n",
       "│ block5_conv1 (\u001b[38;5;33mConv2D\u001b[0m)           │ (\u001b[38;5;45mNone\u001b[0m, \u001b[38;5;34m14\u001b[0m, \u001b[38;5;34m14\u001b[0m, \u001b[38;5;34m512\u001b[0m)    │     \u001b[38;5;34m2,359,808\u001b[0m │\n",
       "├─────────────────────────────────┼────────────────────────┼───────────────┤\n",
       "│ block5_conv2 (\u001b[38;5;33mConv2D\u001b[0m)           │ (\u001b[38;5;45mNone\u001b[0m, \u001b[38;5;34m14\u001b[0m, \u001b[38;5;34m14\u001b[0m, \u001b[38;5;34m512\u001b[0m)    │     \u001b[38;5;34m2,359,808\u001b[0m │\n",
       "├─────────────────────────────────┼────────────────────────┼───────────────┤\n",
       "│ block5_conv3 (\u001b[38;5;33mConv2D\u001b[0m)           │ (\u001b[38;5;45mNone\u001b[0m, \u001b[38;5;34m14\u001b[0m, \u001b[38;5;34m14\u001b[0m, \u001b[38;5;34m512\u001b[0m)    │     \u001b[38;5;34m2,359,808\u001b[0m │\n",
       "├─────────────────────────────────┼────────────────────────┼───────────────┤\n",
       "│ block5_pool (\u001b[38;5;33mMaxPooling2D\u001b[0m)      │ (\u001b[38;5;45mNone\u001b[0m, \u001b[38;5;34m7\u001b[0m, \u001b[38;5;34m7\u001b[0m, \u001b[38;5;34m512\u001b[0m)      │             \u001b[38;5;34m0\u001b[0m │\n",
       "├─────────────────────────────────┼────────────────────────┼───────────────┤\n",
       "│ flatten_3 (\u001b[38;5;33mFlatten\u001b[0m)             │ (\u001b[38;5;45mNone\u001b[0m, \u001b[38;5;34m25088\u001b[0m)          │             \u001b[38;5;34m0\u001b[0m │\n",
       "├─────────────────────────────────┼────────────────────────┼───────────────┤\n",
       "│ embedding (\u001b[38;5;33mDense\u001b[0m)               │ (\u001b[38;5;45mNone\u001b[0m, \u001b[38;5;34m128\u001b[0m)            │     \u001b[38;5;34m3,211,392\u001b[0m │\n",
       "└─────────────────────────────────┴────────────────────────┴───────────────┘\n"
      ]
     },
     "metadata": {},
     "output_type": "display_data"
    },
    {
     "data": {
      "text/html": [
       "<pre style=\"white-space:pre;overflow-x:auto;line-height:normal;font-family:Menlo,'DejaVu Sans Mono',consolas,'Courier New',monospace\"><span style=\"font-weight: bold\"> Total params: </span><span style=\"color: #00af00; text-decoration-color: #00af00\">17,926,080</span> (68.38 MB)\n",
       "</pre>\n"
      ],
      "text/plain": [
       "\u001b[1m Total params: \u001b[0m\u001b[38;5;34m17,926,080\u001b[0m (68.38 MB)\n"
      ]
     },
     "metadata": {},
     "output_type": "display_data"
    },
    {
     "data": {
      "text/html": [
       "<pre style=\"white-space:pre;overflow-x:auto;line-height:normal;font-family:Menlo,'DejaVu Sans Mono',consolas,'Courier New',monospace\"><span style=\"font-weight: bold\"> Trainable params: </span><span style=\"color: #00af00; text-decoration-color: #00af00\">3,211,392</span> (12.25 MB)\n",
       "</pre>\n"
      ],
      "text/plain": [
       "\u001b[1m Trainable params: \u001b[0m\u001b[38;5;34m3,211,392\u001b[0m (12.25 MB)\n"
      ]
     },
     "metadata": {},
     "output_type": "display_data"
    },
    {
     "data": {
      "text/html": [
       "<pre style=\"white-space:pre;overflow-x:auto;line-height:normal;font-family:Menlo,'DejaVu Sans Mono',consolas,'Courier New',monospace\"><span style=\"font-weight: bold\"> Non-trainable params: </span><span style=\"color: #00af00; text-decoration-color: #00af00\">14,714,688</span> (56.13 MB)\n",
       "</pre>\n"
      ],
      "text/plain": [
       "\u001b[1m Non-trainable params: \u001b[0m\u001b[38;5;34m14,714,688\u001b[0m (56.13 MB)\n"
      ]
     },
     "metadata": {},
     "output_type": "display_data"
    }
   ],
   "source": [
    "def build_backbone():\n",
    "    \"\"\"\n",
    "    Build a VGG16–based backbone that outputs an embedding.\n",
    "    (Note: base layers are frozen.)\n",
    "    \"\"\"\n",
    "    vgg = VGG16(input_shape=IMG_SHAPE, weights='imagenet', include_top=False)\n",
    "    for layer in vgg.layers:\n",
    "        layer.trainable = False\n",
    "    x = Flatten()(vgg.output)\n",
    "    embedding = Dense(128, activation='relu', name='embedding')(x)\n",
    "    return Model(inputs=vgg.input, outputs=embedding, name='Backbone')\n",
    "\n",
    "backbone_fsl = build_backbone()\n",
    "backbone_fsl.summary()"
   ]
  },
  {
   "cell_type": "code",
   "execution_count": 24,
   "metadata": {},
   "outputs": [],
   "source": [
    "def get_fresh_backbone():\n",
    "    return build_backbone()"
   ]
  },
  {
   "cell_type": "code",
   "execution_count": 25,
   "metadata": {},
   "outputs": [
    {
     "name": "stdout",
     "output_type": "stream",
     "text": [
      "\n",
      "Training MAML...\n",
      "MAML Episode 0: Support Loss = 0.6472, Query Loss = 2.8090\n",
      "MAML Episode 10: Support Loss = 0.7144, Query Loss = 2.3006\n",
      "MAML Episode 20: Support Loss = 0.6684, Query Loss = 0.8695\n",
      "MAML Episode 30: Support Loss = 0.6718, Query Loss = 0.8222\n",
      "MAML Episode 40: Support Loss = 0.8074, Query Loss = 2.8041\n"
     ]
    },
    {
     "name": "stderr",
     "output_type": "stream",
     "text": [
      "WARNING:absl:You are saving your model as an HDF5 file via `model.save()` or `keras.saving.save_model(model)`. This file format is considered legacy. We recommend using instead the native Keras format, e.g. `model.save('my_model.keras')` or `keras.saving.save_model(model, 'my_model.keras')`. \n"
     ]
    },
    {
     "name": "stdout",
     "output_type": "stream",
     "text": [
      "MAML Evaluation Accuracy: 0.505\n",
      "Saved maml_model.h5\n"
     ]
    }
   ],
   "source": [
    "# -----------------------------------------------------------------------------\n",
    "# 5a. MAML (Model–Agnostic Meta–Learning)\n",
    "# -----------------------------------------------------------------------------\n",
    "def build_maml_model(backbone, num_classes=NUM_CLASSES):\n",
    "    \"\"\"\n",
    "    Build a complete classifier: backbone + classifier head.\n",
    "    \"\"\"\n",
    "    inp = backbone.input\n",
    "    x = backbone.output\n",
    "    out = Dense(num_classes, activation='softmax', name='classifier')(x)\n",
    "    return Model(inputs=inp, outputs=out, name='MAML_Model')\n",
    "\n",
    "maml_backbone = get_fresh_backbone()\n",
    "maml_model = build_maml_model(maml_backbone)\n",
    "maml_optimizer = tf.keras.optimizers.Adam(learning_rate=0.001)\n",
    "\n",
    "# In graph mode we use tensor–based copies of the weights.\n",
    "@tf.function\n",
    "def maml_train_step(model, support_imgs, support_lbls, query_imgs, query_lbls, inner_lr=0.01):\n",
    "    # Save original weights as tensor copies.\n",
    "    original_weights = [tf.identity(w) for w in model.trainable_variables]\n",
    "    \n",
    "    # --- Inner Loop: Adaptation on support set ---\n",
    "    with tf.GradientTape() as tape:\n",
    "        support_preds = model(support_imgs, training=True)\n",
    "        support_loss = tf.reduce_mean(tf.keras.losses.categorical_crossentropy(support_lbls, support_preds))\n",
    "    grads = tape.gradient(support_loss, model.trainable_variables)\n",
    "    for var, grad in zip(model.trainable_variables, grads):\n",
    "        var.assign_sub(inner_lr * grad)\n",
    "    \n",
    "    # --- Outer Loop: Meta–loss on query set ---\n",
    "    with tf.GradientTape() as tape:\n",
    "        query_preds = model(query_imgs, training=True)\n",
    "        query_loss = tf.reduce_mean(tf.keras.losses.categorical_crossentropy(query_lbls, query_preds))\n",
    "    meta_grads = tape.gradient(query_loss, model.trainable_variables)\n",
    "    maml_optimizer.apply_gradients(zip(meta_grads, model.trainable_variables))\n",
    "    \n",
    "    # Restore original weights (so each episode is independent)\n",
    "    for var, orig in zip(model.trainable_variables, original_weights):\n",
    "        var.assign(orig)\n",
    "    \n",
    "    return support_loss, query_loss\n",
    "\n",
    "# Train MAML episodically (using a reduced number of episodes for demo)\n",
    "\n",
    "maml_episodes = 50\n",
    "print(\"\\nTraining MAML...\")\n",
    "t0 = time.time()\n",
    "for episode in range(maml_episodes):\n",
    "    s_imgs, s_lbls, q_imgs, q_lbls = generate_episode(train_data)\n",
    "    s_loss, q_loss = maml_train_step(maml_model, s_imgs, s_lbls, q_imgs, q_lbls)\n",
    "    if episode % 10 == 0:\n",
    "        print(f\"MAML Episode {episode}: Support Loss = {s_loss.numpy():.4f}, Query Loss = {q_loss.numpy():.4f}\")\n",
    "maml_training_time = time.time() - t0\n",
    "\n",
    "def evaluate_maml(model, data, num_episodes=20):\n",
    "    total_correct = 0\n",
    "    total_samples = 0\n",
    "    for _ in range(num_episodes):\n",
    "        s_imgs, s_lbls, q_imgs, q_lbls = generate_episode(data)\n",
    "        # For evaluation, simulate one inner-loop update:\n",
    "        adapted_model = tf.keras.models.clone_model(model)\n",
    "        adapted_model.set_weights(model.get_weights())\n",
    "        with tf.GradientTape() as tape:\n",
    "            s_preds = adapted_model(s_imgs, training=False)\n",
    "            s_loss  = tf.reduce_mean(tf.keras.losses.categorical_crossentropy(s_lbls, s_preds))\n",
    "        grads = tape.gradient(s_loss, adapted_model.trainable_variables)\n",
    "        for var, grad in zip(adapted_model.trainable_variables, grads):\n",
    "            var.assign_sub(0.01 * grad)\n",
    "        q_preds = adapted_model(q_imgs, training=False)\n",
    "        pred_classes = tf.argmax(q_preds, axis=1)\n",
    "        true_classes = tf.argmax(q_lbls, axis=1)\n",
    "        total_correct += np.sum(pred_classes.numpy() == true_classes.numpy())\n",
    "        total_samples += q_imgs.shape[0]\n",
    "    return total_correct / total_samples\n",
    "\n",
    "maml_accuracy = evaluate_maml(maml_model, test_data)\n",
    "print(\"MAML Evaluation Accuracy:\", maml_accuracy)\n",
    "\n",
    "maml_model.save('models/maml_model.h5')\n",
    "print(\"Saved maml_model.h5\")"
   ]
  },
  {
   "cell_type": "code",
   "execution_count": 26,
   "metadata": {},
   "outputs": [
    {
     "name": "stdout",
     "output_type": "stream",
     "text": [
      "\n",
      "Training Matching Networks...\n",
      "Matching Networks Episode 0: Loss = 0.6870\n",
      "Matching Networks Episode 10: Loss = 0.3703\n",
      "Matching Networks Episode 20: Loss = 0.4227\n",
      "Matching Networks Episode 30: Loss = 0.3554\n",
      "Matching Networks Episode 40: Loss = 0.5474\n"
     ]
    },
    {
     "name": "stderr",
     "output_type": "stream",
     "text": [
      "WARNING:absl:You are saving your model as an HDF5 file via `model.save()` or `keras.saving.save_model(model)`. This file format is considered legacy. We recommend using instead the native Keras format, e.g. `model.save('my_model.keras')` or `keras.saving.save_model(model, 'my_model.keras')`. \n"
     ]
    },
    {
     "name": "stdout",
     "output_type": "stream",
     "text": [
      "Matching Networks Evaluation Accuracy: 0.655\n",
      "Saved matching_backbone.h5\n"
     ]
    }
   ],
   "source": [
    "# -----------------------------------------------------------------------------\n",
    "# 5b. Matching Networks\n",
    "# -----------------------------------------------------------------------------\n",
    "\n",
    "matching_backbone = get_fresh_backbone()\n",
    "def matching_network_prediction(embedding_model, support_imgs, support_lbls, query_imgs):\n",
    "    \"\"\"\n",
    "    Compute cosine similarity between query and support embeddings,\n",
    "    then return the weighted sum of support labels as prediction.\n",
    "    \"\"\"\n",
    "    support_embeddings = embedding_model(support_imgs)  # shape: (n_support, emb_dim)\n",
    "    query_embeddings   = embedding_model(query_imgs)    # shape: (n_query, emb_dim)\n",
    "    support_norm = tf.nn.l2_normalize(support_embeddings, axis=1)\n",
    "    query_norm   = tf.nn.l2_normalize(query_embeddings, axis=1)\n",
    "    sims = tf.matmul(query_norm, support_norm, transpose_b=True)  # (n_query, n_support)\n",
    "    attention = tf.nn.softmax(sims, axis=1)\n",
    "    predictions = tf.matmul(attention, support_lbls)\n",
    "    return predictions\n",
    "\n",
    "matching_optimizer = tf.keras.optimizers.Adam(learning_rate=0.001)\n",
    "\n",
    "@tf.function\n",
    "def matching_train_step(embedding_model, support_imgs, support_lbls, query_imgs, query_lbls):\n",
    "    with tf.GradientTape() as tape:\n",
    "        preds = matching_network_prediction(embedding_model, support_imgs, support_lbls, query_imgs)\n",
    "        loss = tf.reduce_mean(tf.keras.losses.categorical_crossentropy(query_lbls, preds))\n",
    "    grads = tape.gradient(loss, embedding_model.trainable_variables)\n",
    "    matching_optimizer.apply_gradients(zip(grads, embedding_model.trainable_variables))\n",
    "    return loss\n",
    "\n",
    "# Train Matching Networks episodically\n",
    "matching_episodes = 50\n",
    "print(\"\\nTraining Matching Networks...\")\n",
    "t0 = time.time()\n",
    "for episode in range(matching_episodes):\n",
    "    s_imgs, s_lbls, q_imgs, q_lbls = generate_episode(train_data)\n",
    "    loss = matching_train_step(matching_backbone, s_imgs, s_lbls, q_imgs, q_lbls)\n",
    "    if episode % 10 == 0:\n",
    "        print(f\"Matching Networks Episode {episode}: Loss = {loss.numpy():.4f}\")\n",
    "matching_training_time = time.time() - t0\n",
    "\n",
    "def evaluate_matching(embedding_model, data, num_episodes=20):\n",
    "    total_correct = 0\n",
    "    total_samples = 0\n",
    "    for _ in range(num_episodes):\n",
    "        s_imgs, s_lbls, q_imgs, q_lbls = generate_episode(data)\n",
    "        preds = matching_network_prediction(embedding_model, s_imgs, s_lbls, q_imgs)\n",
    "        pred_classes = tf.argmax(preds, axis=1)\n",
    "        true_classes = tf.argmax(q_lbls, axis=1)\n",
    "        total_correct += np.sum(pred_classes.numpy() == true_classes.numpy())\n",
    "        total_samples += q_imgs.shape[0]\n",
    "    return total_correct / total_samples\n",
    "\n",
    "matching_accuracy = evaluate_matching(matching_backbone, test_data)\n",
    "print(\"Matching Networks Evaluation Accuracy:\", matching_accuracy)\n",
    "\n",
    "matching_backbone.save('models/matching_backbone.h5')\n",
    "print(\"Saved matching_backbone.h5\")"
   ]
  },
  {
   "cell_type": "code",
   "execution_count": 27,
   "metadata": {},
   "outputs": [
    {
     "name": "stdout",
     "output_type": "stream",
     "text": [
      "\n",
      "Training Prototypical Networks...\n",
      "Prototypical Networks Episode 0: Loss = 0.4226\n",
      "Prototypical Networks Episode 10: Loss = 7.4394\n",
      "Prototypical Networks Episode 20: Loss = 2.8208\n",
      "Prototypical Networks Episode 30: Loss = 0.0000\n",
      "Prototypical Networks Episode 40: Loss = 2.4652\n"
     ]
    },
    {
     "name": "stderr",
     "output_type": "stream",
     "text": [
      "WARNING:absl:You are saving your model as an HDF5 file via `model.save()` or `keras.saving.save_model(model)`. This file format is considered legacy. We recommend using instead the native Keras format, e.g. `model.save('my_model.keras')` or `keras.saving.save_model(model, 'my_model.keras')`. \n"
     ]
    },
    {
     "name": "stdout",
     "output_type": "stream",
     "text": [
      "Prototypical Networks Evaluation Accuracy: 0.885\n",
      "Saved proto_backbone.h5\n"
     ]
    }
   ],
   "source": [
    "# -----------------------------------------------------------------------------\n",
    "# 5c. Prototypical Networks\n",
    "# -----------------------------------------------------------------------------\n",
    "\n",
    "proto_backbone = get_fresh_backbone()\n",
    "\n",
    "\n",
    "def prototypical_network_prediction(embedding_model, support_imgs, support_lbls, query_imgs, num_classes=NUM_CLASSES):\n",
    "    support_embeddings = embedding_model(support_imgs)\n",
    "    query_embeddings   = embedding_model(query_imgs)\n",
    "    prototypes = []\n",
    "    for c in range(num_classes):\n",
    "        class_mask = tf.equal(tf.argmax(support_lbls, axis=1), c)\n",
    "        class_embeddings = tf.boolean_mask(support_embeddings, class_mask)\n",
    "        proto = tf.reduce_mean(class_embeddings, axis=0)\n",
    "        prototypes.append(proto)\n",
    "    prototypes = tf.stack(prototypes)  # shape: (num_classes, emb_dim)\n",
    "    distances = tf.reduce_sum(tf.square(tf.expand_dims(query_embeddings, axis=1) - prototypes), axis=2)\n",
    "    logits = -distances  # negative Euclidean distance\n",
    "    predictions = tf.nn.softmax(logits, axis=1)\n",
    "    return predictions\n",
    "\n",
    "proto_optimizer = tf.keras.optimizers.Adam(learning_rate=0.001)\n",
    "\n",
    "@tf.function\n",
    "def proto_train_step(embedding_model, support_imgs, support_lbls, query_imgs, query_lbls):\n",
    "    with tf.GradientTape() as tape:\n",
    "        preds = prototypical_network_prediction(embedding_model, support_imgs, support_lbls, query_imgs)\n",
    "        loss = tf.reduce_mean(tf.keras.losses.categorical_crossentropy(query_lbls, preds))\n",
    "    grads = tape.gradient(loss, embedding_model.trainable_variables)\n",
    "    proto_optimizer.apply_gradients(zip(grads, embedding_model.trainable_variables))\n",
    "    return loss\n",
    "\n",
    "# Train Prototypical Networks episodically\n",
    "proto_episodes = 50\n",
    "print(\"\\nTraining Prototypical Networks...\")\n",
    "t0 = time.time()\n",
    "for episode in range(proto_episodes):\n",
    "    s_imgs, s_lbls, q_imgs, q_lbls = generate_episode(train_data)\n",
    "    loss = proto_train_step(proto_backbone, s_imgs, s_lbls, q_imgs, q_lbls)\n",
    "    if episode % 10 == 0:\n",
    "        print(f\"Prototypical Networks Episode {episode}: Loss = {loss.numpy():.4f}\")\n",
    "proto_training_time = time.time() - t0\n",
    "\n",
    "def evaluate_proto(embedding_model, data, num_episodes=20):\n",
    "    total_correct = 0\n",
    "    total_samples = 0\n",
    "    for _ in range(num_episodes):\n",
    "        s_imgs, s_lbls, q_imgs, q_lbls = generate_episode(data)\n",
    "        preds = prototypical_network_prediction(embedding_model, s_imgs, s_lbls, q_imgs)\n",
    "        pred_classes = tf.argmax(preds, axis=1)\n",
    "        true_classes = tf.argmax(q_lbls, axis=1)\n",
    "        total_correct += np.sum(pred_classes.numpy() == true_classes.numpy())\n",
    "        total_samples += q_imgs.shape[0]\n",
    "    return total_correct / total_samples\n",
    "\n",
    "proto_accuracy = evaluate_proto(proto_backbone, test_data)\n",
    "print(\"Prototypical Networks Evaluation Accuracy:\", proto_accuracy)\n",
    "\n",
    "proto_backbone.save('models/proto_backbone.h5')\n",
    "print(\"Saved proto_backbone.h5\")"
   ]
  },
  {
   "cell_type": "code",
   "execution_count": 28,
   "metadata": {},
   "outputs": [
    {
     "data": {
      "text/html": [
       "<pre style=\"white-space:pre;overflow-x:auto;line-height:normal;font-family:Menlo,'DejaVu Sans Mono',consolas,'Courier New',monospace\"><span style=\"font-weight: bold\">Model: \"Relation_Module\"</span>\n",
       "</pre>\n"
      ],
      "text/plain": [
       "\u001b[1mModel: \"Relation_Module\"\u001b[0m\n"
      ]
     },
     "metadata": {},
     "output_type": "display_data"
    },
    {
     "data": {
      "text/html": [
       "<pre style=\"white-space:pre;overflow-x:auto;line-height:normal;font-family:Menlo,'DejaVu Sans Mono',consolas,'Courier New',monospace\">┏━━━━━━━━━━━━━━━━━━━━━━━━━━━━━━━━━┳━━━━━━━━━━━━━━━━━━━━━━━━┳━━━━━━━━━━━━━━━┓\n",
       "┃<span style=\"font-weight: bold\"> Layer (type)                    </span>┃<span style=\"font-weight: bold\"> Output Shape           </span>┃<span style=\"font-weight: bold\">       Param # </span>┃\n",
       "┡━━━━━━━━━━━━━━━━━━━━━━━━━━━━━━━━━╇━━━━━━━━━━━━━━━━━━━━━━━━╇━━━━━━━━━━━━━━━┩\n",
       "│ input_layer_9 (<span style=\"color: #0087ff; text-decoration-color: #0087ff\">InputLayer</span>)      │ (<span style=\"color: #00d7ff; text-decoration-color: #00d7ff\">None</span>, <span style=\"color: #00af00; text-decoration-color: #00af00\">256</span>)            │             <span style=\"color: #00af00; text-decoration-color: #00af00\">0</span> │\n",
       "├─────────────────────────────────┼────────────────────────┼───────────────┤\n",
       "│ dense_3 (<span style=\"color: #0087ff; text-decoration-color: #0087ff\">Dense</span>)                 │ (<span style=\"color: #00d7ff; text-decoration-color: #00d7ff\">None</span>, <span style=\"color: #00af00; text-decoration-color: #00af00\">64</span>)             │        <span style=\"color: #00af00; text-decoration-color: #00af00\">16,448</span> │\n",
       "├─────────────────────────────────┼────────────────────────┼───────────────┤\n",
       "│ dense_4 (<span style=\"color: #0087ff; text-decoration-color: #0087ff\">Dense</span>)                 │ (<span style=\"color: #00d7ff; text-decoration-color: #00d7ff\">None</span>, <span style=\"color: #00af00; text-decoration-color: #00af00\">1</span>)              │            <span style=\"color: #00af00; text-decoration-color: #00af00\">65</span> │\n",
       "└─────────────────────────────────┴────────────────────────┴───────────────┘\n",
       "</pre>\n"
      ],
      "text/plain": [
       "┏━━━━━━━━━━━━━━━━━━━━━━━━━━━━━━━━━┳━━━━━━━━━━━━━━━━━━━━━━━━┳━━━━━━━━━━━━━━━┓\n",
       "┃\u001b[1m \u001b[0m\u001b[1mLayer (type)                   \u001b[0m\u001b[1m \u001b[0m┃\u001b[1m \u001b[0m\u001b[1mOutput Shape          \u001b[0m\u001b[1m \u001b[0m┃\u001b[1m \u001b[0m\u001b[1m      Param #\u001b[0m\u001b[1m \u001b[0m┃\n",
       "┡━━━━━━━━━━━━━━━━━━━━━━━━━━━━━━━━━╇━━━━━━━━━━━━━━━━━━━━━━━━╇━━━━━━━━━━━━━━━┩\n",
       "│ input_layer_9 (\u001b[38;5;33mInputLayer\u001b[0m)      │ (\u001b[38;5;45mNone\u001b[0m, \u001b[38;5;34m256\u001b[0m)            │             \u001b[38;5;34m0\u001b[0m │\n",
       "├─────────────────────────────────┼────────────────────────┼───────────────┤\n",
       "│ dense_3 (\u001b[38;5;33mDense\u001b[0m)                 │ (\u001b[38;5;45mNone\u001b[0m, \u001b[38;5;34m64\u001b[0m)             │        \u001b[38;5;34m16,448\u001b[0m │\n",
       "├─────────────────────────────────┼────────────────────────┼───────────────┤\n",
       "│ dense_4 (\u001b[38;5;33mDense\u001b[0m)                 │ (\u001b[38;5;45mNone\u001b[0m, \u001b[38;5;34m1\u001b[0m)              │            \u001b[38;5;34m65\u001b[0m │\n",
       "└─────────────────────────────────┴────────────────────────┴───────────────┘\n"
      ]
     },
     "metadata": {},
     "output_type": "display_data"
    },
    {
     "data": {
      "text/html": [
       "<pre style=\"white-space:pre;overflow-x:auto;line-height:normal;font-family:Menlo,'DejaVu Sans Mono',consolas,'Courier New',monospace\"><span style=\"font-weight: bold\"> Total params: </span><span style=\"color: #00af00; text-decoration-color: #00af00\">16,513</span> (64.50 KB)\n",
       "</pre>\n"
      ],
      "text/plain": [
       "\u001b[1m Total params: \u001b[0m\u001b[38;5;34m16,513\u001b[0m (64.50 KB)\n"
      ]
     },
     "metadata": {},
     "output_type": "display_data"
    },
    {
     "data": {
      "text/html": [
       "<pre style=\"white-space:pre;overflow-x:auto;line-height:normal;font-family:Menlo,'DejaVu Sans Mono',consolas,'Courier New',monospace\"><span style=\"font-weight: bold\"> Trainable params: </span><span style=\"color: #00af00; text-decoration-color: #00af00\">16,513</span> (64.50 KB)\n",
       "</pre>\n"
      ],
      "text/plain": [
       "\u001b[1m Trainable params: \u001b[0m\u001b[38;5;34m16,513\u001b[0m (64.50 KB)\n"
      ]
     },
     "metadata": {},
     "output_type": "display_data"
    },
    {
     "data": {
      "text/html": [
       "<pre style=\"white-space:pre;overflow-x:auto;line-height:normal;font-family:Menlo,'DejaVu Sans Mono',consolas,'Courier New',monospace\"><span style=\"font-weight: bold\"> Non-trainable params: </span><span style=\"color: #00af00; text-decoration-color: #00af00\">0</span> (0.00 B)\n",
       "</pre>\n"
      ],
      "text/plain": [
       "\u001b[1m Non-trainable params: \u001b[0m\u001b[38;5;34m0\u001b[0m (0.00 B)\n"
      ]
     },
     "metadata": {},
     "output_type": "display_data"
    },
    {
     "name": "stdout",
     "output_type": "stream",
     "text": [
      "\n",
      "Training Relation Networks...\n",
      "Relation Networks Episode 0: Loss = 0.6933\n",
      "Relation Networks Episode 10: Loss = 0.6859\n",
      "Relation Networks Episode 20: Loss = 0.5735\n",
      "Relation Networks Episode 30: Loss = 0.5774\n",
      "Relation Networks Episode 40: Loss = 0.6354\n"
     ]
    },
    {
     "name": "stderr",
     "output_type": "stream",
     "text": [
      "WARNING:absl:You are saving your model as an HDF5 file via `model.save()` or `keras.saving.save_model(model)`. This file format is considered legacy. We recommend using instead the native Keras format, e.g. `model.save('my_model.keras')` or `keras.saving.save_model(model, 'my_model.keras')`. \n",
      "WARNING:absl:You are saving your model as an HDF5 file via `model.save()` or `keras.saving.save_model(model)`. This file format is considered legacy. We recommend using instead the native Keras format, e.g. `model.save('my_model.keras')` or `keras.saving.save_model(model, 'my_model.keras')`. \n"
     ]
    },
    {
     "name": "stdout",
     "output_type": "stream",
     "text": [
      "Relation Networks Evaluation Accuracy: 0.59\n",
      "Saved relation_backbone.h5 and relation_module.h5\n"
     ]
    }
   ],
   "source": [
    "relation_backbone = get_fresh_backbone()\n",
    "\n",
    "\n",
    "# -----------------------------------------------------------------------------\n",
    "# 5d. Relation Networks\n",
    "# -----------------------------------------------------------------------------\n",
    "def build_relation_module(input_dim):\n",
    "    inp = Input(shape=(input_dim,))\n",
    "    x = Dense(64, activation='relu')(inp)\n",
    "    out = Dense(1, activation='sigmoid')(x)\n",
    "    return Model(inputs=inp, outputs=out, name='Relation_Module')\n",
    "\n",
    "# Relation module takes concatenated [query_embedding, prototype] (i.e. 2*embedding_dim)\n",
    "relation_module = build_relation_module(128*2)\n",
    "relation_module.summary()\n",
    "relation_optimizer = tf.keras.optimizers.Adam(learning_rate=0.001)\n",
    "\n",
    "@tf.function\n",
    "def relation_train_step(embedding_model, relation_module, support_imgs, support_lbls, query_imgs, query_lbls, num_classes=NUM_CLASSES):\n",
    "    with tf.GradientTape() as tape:\n",
    "        support_embeddings = embedding_model(support_imgs)\n",
    "        query_embeddings   = embedding_model(query_imgs)\n",
    "        prototypes = []\n",
    "        for c in range(num_classes):\n",
    "            class_mask = tf.equal(tf.argmax(support_lbls, axis=1), c)\n",
    "            class_embeddings = tf.boolean_mask(support_embeddings, class_mask)\n",
    "            proto = tf.reduce_mean(class_embeddings, axis=0, keepdims=True)\n",
    "            prototypes.append(proto)\n",
    "        prototypes = tf.concat(prototypes, axis=0)  # shape: (num_classes, emb_dim)\n",
    "        relation_scores = []\n",
    "        # For each class, compute a relation score between the query embeddings and the prototype.\n",
    "        for c in range(num_classes):\n",
    "            proto = tf.expand_dims(prototypes[c], axis=0)  # (1, emb_dim)\n",
    "            # Tile the prototype to the query batch size:\n",
    "            proto_tiled = tf.tile(proto, [tf.shape(query_embeddings)[0], 1])\n",
    "            pair = tf.concat([query_embeddings, proto_tiled], axis=1)\n",
    "            score = relation_module(pair)  # (n_query, 1)\n",
    "            relation_scores.append(score)\n",
    "        relation_scores = tf.concat(relation_scores, axis=1)  # (n_query, num_classes)\n",
    "        predictions = tf.nn.softmax(relation_scores, axis=1)\n",
    "        loss = tf.reduce_mean(tf.keras.losses.categorical_crossentropy(query_lbls, predictions))\n",
    "    vars_to_update = embedding_model.trainable_variables + relation_module.trainable_variables\n",
    "    grads = tape.gradient(loss, vars_to_update)\n",
    "    relation_optimizer.apply_gradients(zip(grads, vars_to_update))\n",
    "    return loss\n",
    "\n",
    "# Train Relation Networks episodically\n",
    "relation_episodes = 50\n",
    "print(\"\\nTraining Relation Networks...\")\n",
    "t0 = time.time()\n",
    "for episode in range(relation_episodes):\n",
    "    s_imgs, s_lbls, q_imgs, q_lbls = generate_episode(train_data)\n",
    "    loss = relation_train_step(relation_backbone, relation_module, s_imgs, s_lbls, q_imgs, q_lbls)\n",
    "    if episode % 10 == 0:\n",
    "        print(f\"Relation Networks Episode {episode}: Loss = {loss.numpy():.4f}\")\n",
    "relation_training_time = time.time() - t0\n",
    "\n",
    "def evaluate_relation(embedding_model, relation_module, data, num_episodes=20, num_classes=NUM_CLASSES):\n",
    "    total_correct = 0\n",
    "    total_samples = 0\n",
    "    for _ in range(num_episodes):\n",
    "        s_imgs, s_lbls, q_imgs, q_lbls = generate_episode(data)\n",
    "        support_embeddings = embedding_model(s_imgs)\n",
    "        query_embeddings   = embedding_model(q_imgs)\n",
    "        prototypes = []\n",
    "        for c in range(num_classes):\n",
    "            class_mask = tf.equal(tf.argmax(s_lbls, axis=1), c)\n",
    "            class_embeddings = tf.boolean_mask(support_embeddings, class_mask)\n",
    "            proto = tf.reduce_mean(class_embeddings, axis=0, keepdims=True)\n",
    "            prototypes.append(proto)\n",
    "        prototypes = tf.concat(prototypes, axis=0)\n",
    "        relation_scores = []\n",
    "        for c in range(num_classes):\n",
    "            proto = tf.expand_dims(prototypes[c], axis=0)\n",
    "            proto_tiled = tf.tile(proto, [tf.shape(query_embeddings)[0], 1])\n",
    "            pair = tf.concat([query_embeddings, proto_tiled], axis=1)\n",
    "            score = relation_module(pair)\n",
    "            relation_scores.append(score)\n",
    "        relation_scores = tf.concat(relation_scores, axis=1)\n",
    "        predictions = tf.nn.softmax(relation_scores, axis=1)\n",
    "        pred_classes = tf.argmax(predictions, axis=1)\n",
    "        true_classes = tf.argmax(q_lbls, axis=1)\n",
    "        total_correct += np.sum(pred_classes.numpy() == true_classes.numpy())\n",
    "        total_samples += q_imgs.shape[0]\n",
    "    return total_correct / total_samples\n",
    "\n",
    "relation_accuracy = evaluate_relation(relation_backbone, relation_module, test_data)\n",
    "print(\"Relation Networks Evaluation Accuracy:\", relation_accuracy)\n",
    "\n",
    "relation_backbone.save('models/relation_backbone.h5')\n",
    "relation_module.save('models/relation_module.h5')\n",
    "print(\"Saved relation_backbone.h5 and relation_module.h5\")"
   ]
  },
  {
   "cell_type": "code",
   "execution_count": 29,
   "metadata": {},
   "outputs": [
    {
     "name": "stdout",
     "output_type": "stream",
     "text": [
      "\n",
      "=== Comparative Results ===\n",
      "\n",
      "Method: Original Model\n",
      "  Accuracy: 0.8894230723381042\n",
      "  Training Time (s): 1896.089072227478\n",
      "  Confusion Matrix: [[ 61 173]\n",
      " [108 282]]\n",
      "  Classification Report:               precision    recall  f1-score   support\n",
      "\n",
      "      NORMAL       0.36      0.26      0.30       234\n",
      "   PNEUMONIA       0.62      0.72      0.67       390\n",
      "\n",
      "    accuracy                           0.55       624\n",
      "   macro avg       0.49      0.49      0.49       624\n",
      "weighted avg       0.52      0.55      0.53       624\n",
      "\n",
      "\n",
      "Method: MAML\n",
      "  Accuracy: 0.505\n",
      "  Training Time (s): 67.7479157447815\n",
      "\n",
      "Method: Matching Networks\n",
      "  Accuracy: 0.655\n",
      "  Training Time (s): 70.79149127006531\n",
      "\n",
      "Method: Prototypical Networks\n",
      "  Accuracy: 0.885\n",
      "  Training Time (s): 67.75871014595032\n",
      "\n",
      "Method: Relation Networks\n",
      "  Accuracy: 0.59\n",
      "  Training Time (s): 68.0609540939331\n"
     ]
    }
   ],
   "source": [
    "# -----------------------------------------------------------------------------\n",
    "# 6. Comparative Results Summary\n",
    "# -----------------------------------------------------------------------------\n",
    "results = {\n",
    "    \"Original Model\": {\n",
    "        \"Accuracy\": original_eval[1],\n",
    "        \"Training Time (s)\": original_training_time,\n",
    "        \"Confusion Matrix\": cm_original,\n",
    "        \"Classification Report\": report_original,\n",
    "    },\n",
    "    \"MAML\": {\n",
    "        \"Accuracy\": maml_accuracy,\n",
    "        \"Training Time (s)\": maml_training_time,\n",
    "    },\n",
    "    \"Matching Networks\": {\n",
    "        \"Accuracy\": matching_accuracy,\n",
    "        \"Training Time (s)\": matching_training_time,\n",
    "    },\n",
    "    \"Prototypical Networks\": {\n",
    "        \"Accuracy\": proto_accuracy,\n",
    "        \"Training Time (s)\": proto_training_time,\n",
    "    },\n",
    "    \"Relation Networks\": {\n",
    "        \"Accuracy\": relation_accuracy,\n",
    "        \"Training Time (s)\": relation_training_time,\n",
    "    }\n",
    "}\n",
    "\n",
    "print(\"\\n=== Comparative Results ===\")\n",
    "for method, metrics in results.items():\n",
    "    print(f\"\\nMethod: {method}\")\n",
    "    for key, value in metrics.items():\n",
    "        print(f\"  {key}: {value}\")"
   ]
  },
  {
   "cell_type": "code",
   "execution_count": 30,
   "metadata": {},
   "outputs": [
    {
     "name": "stdout",
     "output_type": "stream",
     "text": [
      "\n",
      "Exported metrics to fsl_comparison_metrics.csv\n"
     ]
    }
   ],
   "source": [
    "results = {\n",
    "    \"Original Model\": {\n",
    "        \"Accuracy\": original_eval[1],\n",
    "        \"Training Time (s)\": original_training_time,\n",
    "        \"Confusion Matrix\": str(cm_original),\n",
    "        \"Classification Report\": report_original,\n",
    "    },\n",
    "    \"MAML\": {\n",
    "        \"Accuracy\": maml_accuracy,\n",
    "        \"Training Time (s)\": maml_training_time,\n",
    "    },\n",
    "    \"Matching Networks\": {\n",
    "        \"Accuracy\": matching_accuracy,\n",
    "        \"Training Time (s)\": matching_training_time,\n",
    "    },\n",
    "    \"Prototypical Networks\": {\n",
    "        \"Accuracy\": proto_accuracy,\n",
    "        \"Training Time (s)\": proto_training_time,\n",
    "    },\n",
    "    \"Relation Networks\": {\n",
    "        \"Accuracy\": relation_accuracy,\n",
    "        \"Training Time (s)\": relation_training_time,\n",
    "    }\n",
    "}\n",
    "\n",
    "# Convert dictionary to DataFrame and export to CSV:\n",
    "rows = []\n",
    "for method, metrics in results.items():\n",
    "    row = {\"Method\": method}\n",
    "    for key, value in metrics.items():\n",
    "        row[key] = value\n",
    "    rows.append(row)\n",
    "\n",
    "df = pd.DataFrame(rows)\n",
    "csv_filename = \"fsl_comparison_metrics.csv\"\n",
    "df.to_csv(csv_filename, index=False)\n",
    "print(f\"\\nExported metrics to {csv_filename}\")"
   ]
  }
 ],
 "metadata": {
  "kernelspec": {
   "display_name": "001venv",
   "language": "python",
   "name": "python3"
  },
  "language_info": {
   "codemirror_mode": {
    "name": "ipython",
    "version": 3
   },
   "file_extension": ".py",
   "mimetype": "text/x-python",
   "name": "python",
   "nbconvert_exporter": "python",
   "pygments_lexer": "ipython3",
   "version": "3.12.3"
  }
 },
 "nbformat": 4,
 "nbformat_minor": 2
}
